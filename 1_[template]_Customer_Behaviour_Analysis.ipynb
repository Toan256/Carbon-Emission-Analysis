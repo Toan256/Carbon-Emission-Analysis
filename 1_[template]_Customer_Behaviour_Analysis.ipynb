{
  "nbformat": 4,
  "nbformat_minor": 0,
  "metadata": {
    "colab": {
      "provenance": [],
      "toc_visible": true,
      "include_colab_link": true
    },
    "kernelspec": {
      "name": "python3",
      "display_name": "Python 3"
    },
    "language_info": {
      "name": "python"
    }
  },
  "cells": [
    {
      "cell_type": "markdown",
      "metadata": {
        "id": "view-in-github",
        "colab_type": "text"
      },
      "source": [
        "<a href=\"https://colab.research.google.com/github/Toan256/Carbon-Emission-Analysis/blob/main/1_%5Btemplate%5D_Customer_Behaviour_Analysis.ipynb\" target=\"_parent\"><img src=\"https://colab.research.google.com/assets/colab-badge.svg\" alt=\"Open In Colab\"/></a>"
      ]
    },
    {
      "cell_type": "markdown",
      "source": [
        "## **📊 Customer Behaviour Analysis**\n"
      ],
      "metadata": {
        "id": "W0QlxucgfWQ0"
      }
    },
    {
      "cell_type": "markdown",
      "source": [
        "### **1️⃣ Introduction**\n"
      ],
      "metadata": {
        "id": "fXmpUk1bfhzn"
      }
    },
    {
      "cell_type": "markdown",
      "source": [
        "**Objective**: Understand relationships between customer demographics and purchasing behavior.\n",
        "\n",
        "**Application**:\n",
        "- **Marketing**: Tailor marketing strategies based on customer age, gender, or income.\n",
        "- **Customer Segmentation**: Segment customers into groups based on correlated behaviors and demographics."
      ],
      "metadata": {
        "id": "x11WcjGBfzFq"
      }
    },
    {
      "cell_type": "markdown",
      "source": [
        "### **2️⃣ Calculations**"
      ],
      "metadata": {
        "id": "wZc2VziKfsqZ"
      }
    },
    {
      "cell_type": "markdown",
      "source": [
        "Import Pandas, Matplotlib and Seaborn:"
      ],
      "metadata": {
        "id": "DJg7jHNM6obB"
      }
    },
    {
      "cell_type": "code",
      "source": [
        "# YOUR CODE"
      ],
      "metadata": {
        "id": "LGOaWOjd6swI"
      },
      "execution_count": null,
      "outputs": []
    },
    {
      "cell_type": "markdown",
      "source": [
        "Then load the data by the following link:\\\n",
        "https://raw.githubusercontent.com/sca-programming-school/datasets/main/customer_data.csv"
      ],
      "metadata": {
        "id": "UJgIq5rIf1SU"
      }
    },
    {
      "cell_type": "code",
      "source": [
        "# YOUR CODE"
      ],
      "metadata": {
        "id": "jcTyqGI9f-UW"
      },
      "execution_count": null,
      "outputs": []
    },
    {
      "cell_type": "markdown",
      "source": [
        "Let's take a look at the given data first. Output the first 5 rows:"
      ],
      "metadata": {
        "id": "aSt3-N8xgCLJ"
      }
    },
    {
      "cell_type": "code",
      "source": [
        "# YOUR CODE"
      ],
      "metadata": {
        "id": "AXaYqIyTgJkI"
      },
      "execution_count": null,
      "outputs": []
    },
    {
      "cell_type": "markdown",
      "source": [
        "As we know, a correlation can be calculated only based on numeric columns. So, let's make a list of numeric columns:"
      ],
      "metadata": {
        "id": "CU5CdXM4ggt1"
      }
    },
    {
      "cell_type": "code",
      "source": [
        "# YOUR CODE"
      ],
      "metadata": {
        "id": "jb9_qOt4gsf8"
      },
      "execution_count": null,
      "outputs": []
    },
    {
      "cell_type": "markdown",
      "source": [
        "Then calculate a correlation matrix using the method `.corr()`\n",
        "\n",
        "> **💡 Don't forget...**\n",
        ">\n",
        "> You need to use only numeric columns!"
      ],
      "metadata": {
        "id": "mJ9jGnhngy8f"
      }
    },
    {
      "cell_type": "code",
      "source": [
        "# YOUR CODE"
      ],
      "metadata": {
        "id": "nYMNnqstg3NU"
      },
      "execution_count": null,
      "outputs": []
    },
    {
      "cell_type": "markdown",
      "source": [
        "Output correlation matrix"
      ],
      "metadata": {
        "id": "jyAiOzr07Bh_"
      }
    },
    {
      "cell_type": "code",
      "source": [
        "# YOUR CODE"
      ],
      "metadata": {
        "id": "qxvcOfsm7ETt"
      },
      "execution_count": null,
      "outputs": []
    },
    {
      "cell_type": "markdown",
      "source": [
        "Finally, let's visualise the correlation matrix using Seaborn heatmap.\n",
        "\n",
        "Set the title **\"Customer Behavior Correlation Matrix\"** to the chart."
      ],
      "metadata": {
        "id": "4_DHbSXghWRG"
      }
    },
    {
      "cell_type": "code",
      "source": [
        "# YOUR CODE"
      ],
      "metadata": {
        "id": "iT_MXxHThccx"
      },
      "execution_count": null,
      "outputs": []
    },
    {
      "cell_type": "markdown",
      "source": [
        "### **3️⃣ Insights & Conclusions**"
      ],
      "metadata": {
        "id": "DUmoVRgjhkKy"
      }
    },
    {
      "cell_type": "markdown",
      "source": [
        "Write any insights and conclusions you found.\n",
        "\n",
        "> **📌 Note that!**\n",
        ">\n",
        ">\n",
        "> It is considered <u>good practice to examine correlations for all columns one by one</u>.\\\n",
        "This is crucial because, in analysis, even the absence of correlation is significant. The lack of a relationship between two variables is also a useful observation from which conclusions can and sometimes should be drawn."
      ],
      "metadata": {
        "id": "XlqgOX0L7Ty_"
      }
    },
    {
      "cell_type": "markdown",
      "source": [
        "### **4️⃣ Recommendations for Marketing**"
      ],
      "metadata": {
        "id": "3JYCJzM1lGRN"
      }
    },
    {
      "cell_type": "markdown",
      "source": [
        "Write any recomandations for markting strategy based on your insights & conclusions."
      ],
      "metadata": {
        "id": "uXoY3zeQ7jwW"
      }
    }
  ]
}